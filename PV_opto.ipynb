{
 "cells": [
  {
   "cell_type": "code",
   "execution_count": 6,
   "id": "238e0249-2cdf-417c-a231-ca414b17d523",
   "metadata": {},
   "outputs": [],
   "source": [
    "import numpy as np\n",
    "#import matplotlib.pyplot as plt\n",
    "#from matplotlib import cm\n",
    "import time\n",
    "#%matplotlib inline\n",
    "import multiprocessing\n",
    "from itertools import product\n",
    "#from circuit import *"
   ]
  },
  {
   "cell_type": "code",
   "execution_count": 7,
   "id": "dbcc3f38-eb37-44f1-bde3-8a83f6ac2247",
   "metadata": {},
   "outputs": [],
   "source": [
    "def plot_boxplot(data,savepath= \".\",name=None,p_value=None, ax=None):\n",
    "\n",
    "    if ax is None:\n",
    "        fig = plt.figure(figsize = (5,5),dpi=80)\n",
    "        ax = fig.add_subplot(111)\n",
    "\n",
    "    ## add patch_artist=True option to ax.boxplot() \n",
    "    ## to get fill color\n",
    "    bp = ax.boxplot(data, patch_artist=True)\n",
    "    \n",
    "    ## change outline color, fill color and linewidth of the boxes\n",
    "    for box in bp['boxes']:\n",
    "        # change outline color\n",
    "        box.set( color='k', linewidth=1)\n",
    "        # change fill color\n",
    "        box.set( facecolor = '#DCDCDC' )\n",
    "    \n",
    "    ## change color and linewidth of the whiskers\n",
    "    for whisker in bp['whiskers']:\n",
    "        whisker.set(color='k', linewidth=2)\n",
    "    \n",
    "    ## change color and linewidth of the caps\n",
    "    for cap in bp['caps']:\n",
    "        cap.set(color='k', linewidth=2)\n",
    "    \n",
    "    ## change color and linewidth of the medians\n",
    "    for median in bp['medians']:\n",
    "        median.set(color='k', linewidth=2)\n",
    "    \n",
    "    ## change the style of fliers and their fill\n",
    "    for flier in bp['fliers']:\n",
    "        flier.set(marker='o', color='k', markerfacecolor = '#DCDCDC', alpha=0.5)\n",
    "\n",
    "    x1, x2 = 1, 2   # columns 'Sat' and 'Sun' (first column: 0, see plt.xticks())\n",
    "    y, h, col = np.array(data).max() , 1, 'k'\n",
    " \n",
    "    if p_value is not None:\n",
    "        plt.text((x1+x2)*.5, y+h, 'p=%.6f'%(p_value), ha='center', va='bottom', color=col)\n",
    "\n",
    "    ax.set_xticklabels([\"before (199)\", \"after (499)\"])\n",
    "    ## Remove top axes and right axes ticks\n",
    "    ax.get_xaxis().tick_bottom()\n",
    "    ax.get_yaxis().tick_left()\n",
    "    plt.xlabel(\"condition\", fontsize = 16)\n",
    "    #plt.xlim((90,170))\n",
    "    #plt.ylim((0.7,0.78))\n",
    "    plt.ylabel(\"average selectivity\", fontsize = 16)\n",
    "    plt.tight_layout()\n",
    "    plt.savefig('%s/boxplot_%s.eps'%(savepath,name))   \n"
   ]
  },
  {
   "cell_type": "raw",
   "id": "d659ef24-252b-40d6-9dc0-887056c064c7",
   "metadata": {},
   "source": [
    "c = circuit()\n",
    "results = c.run_model(laser_endtime=8000)\n"
   ]
  },
  {
   "cell_type": "raw",
   "id": "dbaba3f2-43a3-4578-b0c3-8cc411cad191",
   "metadata": {},
   "source": [
    "c_early = circuit()\n",
    "results_early = c_early.run_model(laser_endtime=3120)"
   ]
  },
  {
   "cell_type": "code",
   "execution_count": 8,
   "id": "0a94851b-ef42-4a94-b1fe-3c60276a1f09",
   "metadata": {},
   "outputs": [],
   "source": [
    "import matplotlib.pyplot as plt"
   ]
  },
  {
   "cell_type": "raw",
   "id": "6257ff39-20e8-4fc3-be5f-28ac08ade513",
   "metadata": {},
   "source": [
    "plt.plot(results['PYR_go'][:,0,0],color='k', label='PYR go, entire PV')\n",
    "plt.plot(results['PYR_nogo'][:,0,0],color='g', label= 'PYR nogo, entire PV')\n",
    "plt.plot(results_early['PYR_go'][:,0,0],color='k',linestyle='dashed', label = 'PYR go, early PV')\n",
    "plt.plot(results_early['PYR_nogo'][:,0,0],color='g',linestyle='dashed', label = 'PYR nogo, early PV')\n",
    "plt.vlines(3000,-1,8,color='cornflowerblue',label='laser onset')\n",
    "plt.vlines(4000,-1,8,color='cornflowerblue',linestyle='dashed',label='early laser offset')\n",
    "#plt.ylim(-0.5,7.5)\n",
    "plt.legend(loc='center left', bbox_to_anchor=(1, 0.5))\n",
    "plt.savefig('./PVactivation.png', bbox_inches='tight')"
   ]
  },
  {
   "cell_type": "raw",
   "id": "f0a9258d-1282-4008-9c23-d14e79ad1410",
   "metadata": {},
   "source": [
    "plt.plot(results['PV_go'][:,0,0],color='k')\n",
    "plt.plot(results['PV_nogo'][:,0,0],color='g')\n",
    "plt.plot(results_early['PV_go'][:,0,0],color='k',linestyle='dashed')\n",
    "plt.plot(results_early['PV_nogo'][:,0,0],color='g',linestyle='dashed')"
   ]
  },
  {
   "cell_type": "raw",
   "id": "51cd58a1-0cf9-48dd-b05c-42ecd97c663d",
   "metadata": {},
   "source": [
    "    if t < 0:\n",
    "        dr_1 = -r_1 + phi(-W*r_2 + I_1 + PV)\n",
    "        dr_2 = -r_2 + phi(-W*r_1 + I_2 + PV)\n",
    "    else:"
   ]
  },
  {
   "cell_type": "code",
   "execution_count": 10,
   "id": "fe001194-55cf-42e5-9c15-631df6eb60e6",
   "metadata": {},
   "outputs": [],
   "source": [
    "import numpy as np\n",
    "import matplotlib.pyplot as plt\n",
    "from matplotlib import cm\n",
    "# Parameters\n",
    "dt = .05                                       # Simulation time step\\n\",\n",
    "nsteps = 25                                   # Number of simulation time steps\\n\",\n",
    "N = 100                                        # Number of neurons per population\\n\",\n",
    "I_1 = np.ones((N))*1.5+np.random.randn(N)       # Input to Population 1\\n\",\n",
    "I_2 = np.ones((N))*1+np.random.randn(N)       # Input to Population 1\\n\",\n",
    "W = 20.0#abs(np.random.randn(N))               # Weight\\n\",\n",
    "PV = 20.0\n",
    "\n",
    "sample_resolution = 1 # For recording rates\\n\",\n",
    "\n",
    "def phi(_x):\n",
    "    r_max=1.0\n",
    "    #print(_x)\n",
    "    _x[_x<=0] = 0 # rectify at 0\n",
    "    _x[_x>r_max] = r_max\n",
    "    return _x\n",
    "    # return sigmoid function value    \\n\",\n",
    "    #return 1.0/(1.0+np.exp(-x))\\n\",\n",
    "    \n",
    "seeds = [763,82375,838,903489,5786,78634,38,276,9405,2716,409,852,847,736,945]\n",
    "lr = []\n",
    "ul = []\n",
    "sel = []\n",
    "avg_before_selectivity = []\n",
    "avg_final_selectivity = []\n",
    "all_avg_selectivities = []\n",
    "\n",
    "for seed in seeds:\n",
    "    np.random.seed(seed)\n",
    "    r_1 = abs(np.random.randn(N))\n",
    "    r_2 = abs(np.random.randn(N))\n",
    "    rates_1 = []\n",
    "    rates_2 = []\n",
    "    selectivity = []\n",
    "    avg_selectivity = []\n",
    "    rates_1.append(r_1.copy())\n",
    "    rates_2.append(r_2.copy())\n",
    "\n",
    "    for t in range(int(nsteps/dt)):\n",
    "        if (t>200) and (t < 300):\n",
    "            # early: 200-300\n",
    "            # entire: 200-500\n",
    "            dr_1 = -r_1 + phi(-W*r_2 + I_1 - PV)\n",
    "            dr_2 = -r_2 + phi(-W*r_1 + I_2 - PV)\n",
    "        else: \n",
    "            dr_1 = -r_1 + phi(-W*r_2 + I_1 - 0.0)\n",
    "            dr_2 = -r_2 + phi(-W*r_1 + I_2 - 0.0)\n",
    "            \n",
    "\n",
    "        r_1 += dt*dr_1\n",
    "        r_2 += dt*dr_2\n",
    "        \n",
    "        rates_1.append(r_1.copy())\n",
    "        rates_2.append(r_2.copy())\n",
    "        selectivity.append(abs(np.array(rates_1)[t,:]-np.array(rates_2)[t,:]))\n",
    "        avg_selectivity.append(np.mean(abs(np.array(rates_1)[t,:]-np.array(rates_2)[t,:])))\n",
    "        \n",
    "    points_lower_right = np.shape(np.nonzero(np.array(rates_1)[-1,:]>0.2))[1]\n",
    "    points_upper_left = np.shape(np.nonzero(np.array(rates_2)[-1,:]>0.2))[1]\n",
    "    \n",
    "    before_selectivity = abs(np.array(rates_1)[199,:]-np.array(rates_2)[199,:])\n",
    "    final_selectivity = abs(np.array(rates_1)[-1,:]-np.array(rates_2)[-1,:])\n",
    "    avg_final_selectivity.append(np.mean(final_selectivity))\n",
    "    avg_before_selectivity.append(np.mean(before_selectivity))\n",
    "    all_avg_selectivities.append(avg_selectivity)\n",
    "\n",
    "    lr.append(points_lower_right)\n",
    "    ul.append(points_upper_left)\n",
    "    sel.append(selectivity)"
   ]
  },
  {
   "cell_type": "code",
   "execution_count": 11,
   "id": "b3f041ff-aeb4-4069-8ef2-181652925320",
   "metadata": {},
   "outputs": [],
   "source": [
    "lr_5 = lr\n",
    "ul_5 = ul\n",
    "sel_5= sel\n"
   ]
  },
  {
   "cell_type": "code",
   "execution_count": 12,
   "id": "29b8e606-ce10-4fbe-87de-15fe9e333766",
   "metadata": {},
   "outputs": [
    {
     "name": "stdout",
     "output_type": "stream",
     "text": [
      "[1. 1. 1. 1. 1. 1. 1. 1. 1. 1.]\n",
      "[0. 1. 2. 3. 4. 5. 6. 7. 8. 9.]\n"
     ]
    }
   ],
   "source": [
    "rate_2 = np.arange(10.0)\n",
    "rate_1 = np.ones((10))\n",
    "print(rate_1)\n",
    "print(rate_2)"
   ]
  },
  {
   "cell_type": "code",
   "execution_count": 13,
   "id": "9c61a672-bd6d-40f2-a7f1-d9ac2dbfecb4",
   "metadata": {},
   "outputs": [
    {
     "name": "stdout",
     "output_type": "stream",
     "text": [
      "[ 0.  4.  8. 12. 16. 20. 24. 28. 32. 36.]\n",
      "[ 1.  5.  9. 13. 17. 21. 25. 29. 33. 37.]\n"
     ]
    }
   ],
   "source": [
    "rate_2\n",
    "rate_3 = 4.0*rate_2\n",
    "print(rate_3)\n",
    "rate_1 += rate_3\n",
    "print(rate_1)"
   ]
  },
  {
   "cell_type": "code",
   "execution_count": 14,
   "id": "0609e55a-40de-45d8-9d59-ee9fd543ff19",
   "metadata": {},
   "outputs": [
    {
     "name": "stdout",
     "output_type": "stream",
     "text": [
      "[1. 2. 2. 2. 2. 2. 2. 2. 2. 2.]\n"
     ]
    }
   ],
   "source": [
    "rate_1 = np.ones((10))\n",
    "rate_1 += phi(rate_3)\n",
    "print(rate_1)"
   ]
  },
  {
   "cell_type": "code",
   "execution_count": 15,
   "id": "435ce43e-a9d5-484c-a031-246a1e9ecf9f",
   "metadata": {},
   "outputs": [
    {
     "name": "stdout",
     "output_type": "stream",
     "text": [
      "(15, 500, 100)\n"
     ]
    },
    {
     "data": {
      "text/plain": [
       "0.642680259438345"
      ]
     },
     "execution_count": 15,
     "metadata": {},
     "output_type": "execute_result"
    }
   ],
   "source": [
    "print(np.shape(sel))\n",
    "np.mean(np.mean(sel,1))"
   ]
  },
  {
   "cell_type": "code",
   "execution_count": 16,
   "id": "17da451f-d02a-44c1-8656-8d317faa157d",
   "metadata": {},
   "outputs": [
    {
     "name": "stdout",
     "output_type": "stream",
     "text": [
      "[68, 67, 66, 66, 67, 67, 66, 67, 65, 66, 66, 66, 66, 67, 67]\n"
     ]
    },
    {
     "ename": "NameError",
     "evalue": "name 'lr_10' is not defined",
     "output_type": "error",
     "traceback": [
      "\u001b[0;31m---------------------------------------------------------------------------\u001b[0m",
      "\u001b[0;31mNameError\u001b[0m                                 Traceback (most recent call last)",
      "\u001b[0;32m<ipython-input-16-9aaa0900f8e8>\u001b[0m in \u001b[0;36m<module>\u001b[0;34m\u001b[0m\n\u001b[1;32m      1\u001b[0m \u001b[0mprint\u001b[0m\u001b[0;34m(\u001b[0m\u001b[0mlr_5\u001b[0m\u001b[0;34m)\u001b[0m\u001b[0;34m\u001b[0m\u001b[0;34m\u001b[0m\u001b[0m\n\u001b[0;32m----> 2\u001b[0;31m \u001b[0mprint\u001b[0m\u001b[0;34m(\u001b[0m\u001b[0mlr_10\u001b[0m\u001b[0;34m)\u001b[0m\u001b[0;34m\u001b[0m\u001b[0;34m\u001b[0m\u001b[0m\n\u001b[0m\u001b[1;32m      3\u001b[0m \u001b[0mprint\u001b[0m\u001b[0;34m(\u001b[0m\u001b[0mlr_20\u001b[0m\u001b[0;34m)\u001b[0m\u001b[0;34m\u001b[0m\u001b[0;34m\u001b[0m\u001b[0m\n\u001b[1;32m      4\u001b[0m \u001b[0mprint\u001b[0m\u001b[0;34m(\u001b[0m\u001b[0mlr_30\u001b[0m\u001b[0;34m)\u001b[0m\u001b[0;34m\u001b[0m\u001b[0;34m\u001b[0m\u001b[0m\n\u001b[1;32m      5\u001b[0m \u001b[0mprint\u001b[0m\u001b[0;34m(\u001b[0m\u001b[0mul_5\u001b[0m\u001b[0;34m)\u001b[0m\u001b[0;34m\u001b[0m\u001b[0;34m\u001b[0m\u001b[0m\n",
      "\u001b[0;31mNameError\u001b[0m: name 'lr_10' is not defined"
     ]
    }
   ],
   "source": [
    "print(lr_5)\n",
    "print(lr_10)\n",
    "print(lr_20)\n",
    "print(lr_30)\n",
    "print(ul_5)\n",
    "print(ul_10)\n",
    "print(ul_20)\n",
    "print(ul_30)\n",
    "print(np.mean(np.array(lr_5)/np.array(ul_5)))\n",
    "print(np.mean(np.array(lr_10)/np.array(ul_10)))\n",
    "print(np.mean(np.array(lr_20)/np.array(ul_20)))\n",
    "print(np.mean(np.array(lr_30)/np.array(ul_30)))\n",
    "print(np.std(np.array(lr_5)/np.array(ul_5)))\n",
    "print(np.std(np.array(lr_10)/np.array(ul_10)))\n",
    "print(np.std(np.array(lr_20)/np.array(ul_20)))\n",
    "print(np.std(np.array(lr_30)/np.array(ul_30)))"
   ]
  },
  {
   "cell_type": "code",
   "execution_count": null,
   "id": "439df3b4-60d2-4db5-9155-00508f3016d4",
   "metadata": {},
   "outputs": [],
   "source": [
    "plt.plot(np.array(rates_1)[:,0])"
   ]
  },
  {
   "cell_type": "code",
   "execution_count": null,
   "id": "6786dd31-8e9a-458b-9889-95aedbe48656",
   "metadata": {},
   "outputs": [],
   "source": []
  },
  {
   "cell_type": "code",
   "execution_count": null,
   "id": "c66e65ab-4845-4ca0-b28b-193050bf6d27",
   "metadata": {},
   "outputs": [],
   "source": [
    "plt.plot(np.array(rates_1))\n",
    "plt.plot(np.array(rates_2),linestyle='dashed')"
   ]
  },
  {
   "cell_type": "code",
   "execution_count": null,
   "id": "1a5e6ff8-a869-4112-a136-dc2898c2245c",
   "metadata": {},
   "outputs": [],
   "source": [
    "plt.figure()\n",
    "for i,rate_1 in enumerate(np.array(rates_1).T):\n",
    "    plt.plot(rate_1,color=cm.cividis(i/100.0))\n",
    "    plt.plot(np.array(rates_2)[:,i],color=cm.cividis(i/100.0),linestyle='dashed')\n",
    "plt.xlabel('time',fontsize=16)\n",
    "plt.ylabel('activity',fontsize=16)\n",
    "#plt.ylim(-0.1,3.0)\n",
    "plt.savefig('./rates_over_time_I1earlyPVact_laserPV20_linact.png', bbox_inches='tight')"
   ]
  },
  {
   "cell_type": "code",
   "execution_count": null,
   "id": "cd699778-d797-41fb-833e-7d02ad9a3e93",
   "metadata": {},
   "outputs": [],
   "source": [
    "print(avg_before_selectivity)\n",
    "print(avg_final_selectivity)\n"
   ]
  },
  {
   "cell_type": "code",
   "execution_count": null,
   "id": "cd4de3e4-3cdd-40c6-bef9-e2fa13eff7ea",
   "metadata": {},
   "outputs": [],
   "source": [
    "plt.figure()\n",
    "for i,select in enumerate(np.array(selectivity).T):\n",
    "    plt.plot(select,color=cm.cividis(i/100.0))\n",
    "plt.plot(avg_selectivity,color='k',linewidth=2.0,label='average')\n",
    "plt.xlabel('time',fontsize=16)\n",
    "plt.ylabel('selectivity',fontsize=16)\n",
    "plt.title('one example, different lines are different circuits')\n",
    "#plt.title(\"selectivity before: %.2f; selectivity after: %.2f\"%(avg_before_selectivity, avg_final_selectivity))\n",
    "#plt.ylim(-0.1,1.5)\n",
    "plt.legend()\n",
    "plt.savefig('./selectivity_over_time_I1earlyPVact_laserPV20_linact.png', bbox_inches='tight')"
   ]
  },
  {
   "cell_type": "code",
   "execution_count": null,
   "id": "0cce979f-3956-4618-85e6-74e7e2c4d9ac",
   "metadata": {},
   "outputs": [],
   "source": [
    "plt.figure()\n",
    "plt.subplot(121)\n",
    "for i,avg_select in enumerate(np.array(all_avg_selectivities)):\n",
    "    plt.plot(avg_select)\n",
    "    print(i)\n",
    "plt.xlabel('time',fontsize=16)\n",
    "plt.ylabel('average selectivity',fontsize=16)\n",
    "plt.title('different lines are different seeds')\n",
    "#plt.title(\"selectivity before: %.2f; selectivity after: %.2f\"%(avg_before_selectivity, avg_final_selectivity))\n",
    "ax = plt.subplot(122)\n",
    "plot_boxplot([avg_before_selectivity, avg_final_selectivity],name='early_activation',ax=ax)\n",
    "plt.ylim(0.93,1.01)\n",
    "plt.savefig('./all_avg_selectivities_over_time_I1earlyPVact_laserPV20_linact.png', bbox_inches='tight')"
   ]
  },
  {
   "cell_type": "code",
   "execution_count": null,
   "id": "4ae4636c-7042-4ec7-b7fa-6561e4316a23",
   "metadata": {},
   "outputs": [],
   "source": []
  },
  {
   "cell_type": "code",
   "execution_count": 93,
   "id": "e28170ba-17c4-4d6b-8f00-a77f85542984",
   "metadata": {},
   "outputs": [
    {
     "data": {
      "image/png": "[encoded data removed]",
      "text/plain": [
       "<Figure size 432x288 with 1 Axes>"
      ]
     },
     "metadata": {
      "needs_background": "light"
     },
     "output_type": "display_data"
    }
   ],
   "source": [
    "points_lower_right = np.shape(np.nonzero(np.array(rates_1)[-1,:]>0.2))[1]\n",
    "points_upper_left = np.shape(np.nonzero(np.array(rates_2)[-1,:]>0.2))[1]\n",
    "\n",
    "plt.figure()\n",
    "plt.scatter(np.array(rates_1)[-1,:],np.array(rates_2)[-1,:],color='k')\n",
    "plt.xlabel(r'$r_1$',fontsize=16)\n",
    "plt.ylabel(r'$r_2$',fontsize=16)\n",
    "plt.title('F1/F2 ratio: %d / %d' %(points_lower_right,points_upper_left))\n",
    "plt.savefig('./r_1_versus_r_2_100_earlyPVact_laserPV20.png', bbox_inches='tight')"
   ]
  },
  {
   "cell_type": "code",
   "execution_count": 78,
   "id": "e0f67f7d-a30d-426c-9d8c-c65bc049d79b",
   "metadata": {},
   "outputs": [
    {
     "name": "stdout",
     "output_type": "stream",
     "text": [
      "(array([ 0,  2,  4,  5,  6,  7,  8,  9, 10, 11, 13, 14, 15, 16, 18, 22, 23,\n",
      "       24, 25, 26, 27, 29, 32, 33, 35, 37, 39, 40, 41, 44, 46, 49, 50, 51,\n",
      "       52, 53, 54, 55, 56, 59, 60, 61, 63, 64, 65, 68, 69, 71, 72, 73, 74,\n",
      "       75, 76, 78, 79, 82, 84, 85, 86, 87, 89, 93, 96, 97, 98, 99]),)\n",
      "(array([ 0,  2,  4,  5,  6,  7,  8,  9, 10, 11, 13, 14, 15, 16, 18, 22, 23,\n",
      "       24, 25, 26, 27, 29, 32, 33, 35, 37, 39, 40, 41, 44, 46, 49, 50, 51,\n",
      "       52, 53, 54, 55, 56, 59, 60, 61, 63, 64, 65, 68, 69, 71, 72, 73, 74,\n",
      "       75, 76, 78, 79, 82, 84, 85, 86, 87, 89, 93, 96, 97, 98, 99]),)\n",
      "(1, 66)\n"
     ]
    }
   ],
   "source": [
    "print(np.nonzero(np.array(rates_1)[-1,:]>0.2))\n",
    "print(np.nonzero(np.array(rates_2)[-1,:]<0.2))\n",
    "print(np.shape(np.nonzero(np.array(rates_1)[-1,:]>0.2)))\n"
   ]
  },
  {
   "cell_type": "code",
   "execution_count": 79,
   "id": "52033e83-f5da-47a4-aada-81fe1807779e",
   "metadata": {},
   "outputs": [
    {
     "name": "stdout",
     "output_type": "stream",
     "text": [
      "(array([ 1,  3, 12, 17, 19, 20, 21, 28, 30, 31, 34, 36, 38, 42, 43, 45, 47,\n",
      "       48, 57, 58, 62, 66, 67, 70, 77, 80, 81, 83, 88, 90, 91, 92, 94, 95]),)\n",
      "(array([ 1,  3, 12, 17, 19, 20, 21, 28, 30, 31, 34, 36, 38, 42, 43, 45, 47,\n",
      "       48, 57, 58, 62, 66, 67, 70, 77, 80, 81, 83, 88, 90, 91, 92, 94, 95]),)\n",
      "(1, 34)\n"
     ]
    }
   ],
   "source": [
    "print(np.nonzero(np.array(rates_1)[-1,:]<0.2))\n",
    "print(np.nonzero(np.array(rates_2)[-1,:]>0.2))\n",
    "print(np.shape(np.nonzero(np.array(rates_2)[-1,:]>0.2)))\n"
   ]
  },
  {
   "cell_type": "code",
   "execution_count": 595,
   "id": "65be4978-8aa1-405c-9a0f-d69c83397fc0",
   "metadata": {},
   "outputs": [
    {
     "data": {
      "text/plain": [
       "array([1., 1., 1., 1., 1., 1., 1., 1., 1., 1.])"
      ]
     },
     "execution_count": 595,
     "metadata": {},
     "output_type": "execute_result"
    }
   ],
   "source": [
    "r_0 = np.ones((10))\n",
    "r_0"
   ]
  },
  {
   "cell_type": "code",
   "execution_count": 596,
   "id": "2f5acf36-e40a-4b3a-b952-9d6a137a3313",
   "metadata": {},
   "outputs": [
    {
     "ename": "ValueError",
     "evalue": "operands could not be broadcast together with shapes (10,) (100,) (10,) ",
     "output_type": "error",
     "traceback": [
      "\u001b[0;31m---------------------------------------------------------------------------\u001b[0m",
      "\u001b[0;31mValueError\u001b[0m                                Traceback (most recent call last)",
      "\u001b[0;32m<ipython-input-596-768badc12069>\u001b[0m in \u001b[0;36m<module>\u001b[0;34m\u001b[0m\n\u001b[0;32m----> 1\u001b[0;31m \u001b[0mr_0\u001b[0m \u001b[0;34m+=\u001b[0m \u001b[0mW\u001b[0m\u001b[0;34m*\u001b[0m\u001b[0mr_2\u001b[0m\u001b[0;34m\u001b[0m\u001b[0;34m\u001b[0m\u001b[0m\n\u001b[0m",
      "\u001b[0;31mValueError\u001b[0m: operands could not be broadcast together with shapes (10,) (100,) (10,) "
     ]
    }
   ],
   "source": [
    "r_0 += W*r_2"
   ]
  },
  {
   "cell_type": "code",
   "execution_count": null,
   "id": "54b8ecf7-c5b9-4355-bd90-6e4d410ca8c8",
   "metadata": {},
   "outputs": [],
   "source": [
    "r_0"
   ]
  },
  {
   "cell_type": "code",
   "execution_count": null,
   "id": "2696d594-fcf5-4e54-8e59-4e8d83f72885",
   "metadata": {},
   "outputs": [],
   "source": []
  },
  {
   "cell_type": "code",
   "execution_count": null,
   "id": "2a4b4e54-4454-4d3b-9bc8-621b477b3dfe",
   "metadata": {},
   "outputs": [],
   "source": []
  },
  {
   "cell_type": "code",
   "execution_count": null,
   "id": "1757576d-6446-4536-b401-2f13fb61d2b4",
   "metadata": {},
   "outputs": [],
   "source": []
  },
  {
   "cell_type": "code",
   "execution_count": null,
   "id": "b62c5329-927c-4e83-9450-7d14450cb3a1",
   "metadata": {},
   "outputs": [],
   "source": []
  }
 ],
 "metadata": {
  "kernelspec": {
   "display_name": "Python 3",
   "language": "python",
   "name": "python3"
  },
  "language_info": {
   "codemirror_mode": {
    "name": "ipython",
    "version": 3
   },
   "file_extension": ".py",
   "mimetype": "text/x-python",
   "name": "python",
   "nbconvert_exporter": "python",
   "pygments_lexer": "ipython3",
   "version": "3.8.8"
  }
 },
 "nbformat": 4,
 "nbformat_minor": 5
}
